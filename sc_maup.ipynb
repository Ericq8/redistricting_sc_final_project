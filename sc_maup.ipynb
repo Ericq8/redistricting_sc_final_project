{
 "cells": [
  {
   "cell_type": "code",
   "execution_count": 2,
   "id": "8f2a77b0",
   "metadata": {},
   "outputs": [],
   "source": [
    "import pandas as pd\n",
    "import geopandas as gpd\n",
    "import maup\n",
    "import time\n",
    "\n",
    "maup.progress.enabled = True"
   ]
  },
  {
   "cell_type": "code",
   "execution_count": 3,
   "id": "dd650663",
   "metadata": {},
   "outputs": [],
   "source": [
    "population_df = gpd.read_file(\"./sc_pl2020_b/sc_pl2020_p2_b.shp\")"
   ]
  },
  {
   "cell_type": "code",
   "execution_count": 4,
   "id": "e155f773",
   "metadata": {},
   "outputs": [],
   "source": [
    "vap_df = gpd.read_file(\"./sc_pl2020_b/sc_pl2020_p4_b.shp\")"
   ]
  },
  {
   "cell_type": "code",
   "execution_count": 5,
   "id": "e6888ddc",
   "metadata": {},
   "outputs": [],
   "source": [
    "election_df = gpd.read_file(\"./sc_2020_gen_2020_blocks/sc_2020_gen_2020_blocks.shp\")"
   ]
  },
  {
   "cell_type": "code",
   "execution_count": 6,
   "id": "49d728ea",
   "metadata": {},
   "outputs": [],
   "source": [
    "cong_df = gpd.read_file(\"./sc_cvap_2020_cd/sc_cvap_2020_cd.shp\")"
   ]
  },
  {
   "cell_type": "code",
   "execution_count": 7,
   "id": "16dfabaf",
   "metadata": {},
   "outputs": [
    {
     "data": {
      "text/plain": [
       "(7, 111)"
      ]
     },
     "execution_count": 7,
     "metadata": {},
     "output_type": "execute_result"
    }
   ],
   "source": [
    "cong_df.shape"
   ]
  },
  {
   "cell_type": "code",
   "execution_count": 8,
   "id": "d80a64a8",
   "metadata": {},
   "outputs": [
    {
     "name": "stdout",
     "output_type": "stream",
     "text": [
      "Index(['GEOID20', 'SUMLEV', 'LOGRECNO', 'GEOID', 'COUNTY', 'P0020001',\n",
      "       'P0020002', 'P0020003', 'P0020004', 'P0020005', 'P0020006', 'P0020007',\n",
      "       'P0020008', 'P0020009', 'P0020010', 'P0020011', 'P0020012', 'P0020013',\n",
      "       'P0020014', 'P0020015', 'P0020016', 'P0020017', 'P0020018', 'P0020019',\n",
      "       'P0020020', 'P0020021', 'P0020022', 'P0020023', 'P0020024', 'P0020025',\n",
      "       'P0020026', 'P0020027', 'P0020028', 'P0020029', 'P0020030', 'P0020031',\n",
      "       'P0020032', 'P0020033', 'P0020034', 'P0020035', 'P0020036', 'P0020037',\n",
      "       'P0020038', 'P0020039', 'P0020040', 'P0020041', 'P0020042', 'P0020043',\n",
      "       'P0020044', 'P0020045', 'P0020046', 'P0020047', 'P0020048', 'P0020049',\n",
      "       'P0020050', 'P0020051', 'P0020052', 'P0020053', 'P0020054', 'P0020055',\n",
      "       'P0020056', 'P0020057', 'P0020058', 'P0020059', 'P0020060', 'P0020061',\n",
      "       'P0020062', 'P0020063', 'P0020064', 'P0020065', 'P0020066', 'P0020067',\n",
      "       'P0020068', 'P0020069', 'P0020070', 'P0020071', 'P0020072', 'P0020073',\n",
      "       'geometry'],\n",
      "      dtype='object')\n",
      "Index(['GEOID20', 'SUMLEV', 'LOGRECNO', 'GEOID', 'COUNTY', 'P0040001',\n",
      "       'P0040002', 'P0040003', 'P0040004', 'P0040005', 'P0040006', 'P0040007',\n",
      "       'P0040008', 'P0040009', 'P0040010', 'P0040011', 'P0040012', 'P0040013',\n",
      "       'P0040014', 'P0040015', 'P0040016', 'P0040017', 'P0040018', 'P0040019',\n",
      "       'P0040020', 'P0040021', 'P0040022', 'P0040023', 'P0040024', 'P0040025',\n",
      "       'P0040026', 'P0040027', 'P0040028', 'P0040029', 'P0040030', 'P0040031',\n",
      "       'P0040032', 'P0040033', 'P0040034', 'P0040035', 'P0040036', 'P0040037',\n",
      "       'P0040038', 'P0040039', 'P0040040', 'P0040041', 'P0040042', 'P0040043',\n",
      "       'P0040044', 'P0040045', 'P0040046', 'P0040047', 'P0040048', 'P0040049',\n",
      "       'P0040050', 'P0040051', 'P0040052', 'P0040053', 'P0040054', 'P0040055',\n",
      "       'P0040056', 'P0040057', 'P0040058', 'P0040059', 'P0040060', 'P0040061',\n",
      "       'P0040062', 'P0040063', 'P0040064', 'P0040065', 'P0040066', 'P0040067',\n",
      "       'P0040068', 'P0040069', 'P0040070', 'P0040071', 'P0040072', 'P0040073',\n",
      "       'geometry'],\n",
      "      dtype='object')\n",
      "Index(['GEOID20', 'STATEFP', 'COUNTYFP', 'PRECINCTID', 'VAP_MOD', 'G20PRERTRU',\n",
      "       'G20PREDBID', 'G20PRELJOR', 'G20PREGHAW', 'G20PREAFUE', 'G20USSRGRA',\n",
      "       'G20USSDHAR', 'G20USSCBLE', 'G20USSOWRI', 'geometry'],\n",
      "      dtype='object')\n",
      "Index(['GEOID20', 'NAME', 'STATE', 'DIST', 'C_TOT20', 'CTOTMOE', 'C_NHS20',\n",
      "       'CNHSMOE', 'C_AIA20', 'CAIAMOE',\n",
      "       ...\n",
      "       'VAPBLWMOE', 'VAP_AIB20', 'VAPAIBMOE', 'VAP_2OM20', 'VAP2OMMOE',\n",
      "       'VAP_HSP20', 'VAPHSPMOE', 'STATEFP', 'CD', 'geometry'],\n",
      "      dtype='object', length=111)\n"
     ]
    }
   ],
   "source": [
    "print(population_df.columns)\n",
    "print(vap_df.columns)\n",
    "print(election_df.columns)\n",
    "print(cong_df.columns)"
   ]
  },
  {
   "cell_type": "code",
   "execution_count": 9,
   "id": "2acbce00",
   "metadata": {},
   "outputs": [
    {
     "name": "stdout",
     "output_type": "stream",
     "text": [
      "0    Congressional District 1 (116th Congress)\n",
      "1    Congressional District 3 (116th Congress)\n",
      "2    Congressional District 4 (116th Congress)\n",
      "3    Congressional District 5 (116th Congress)\n",
      "4    Congressional District 7 (116th Congress)\n",
      "5    Congressional District 2 (116th Congress)\n",
      "6    Congressional District 6 (116th Congress)\n",
      "Name: DIST, dtype: object\n"
     ]
    }
   ],
   "source": [
    "print(cong_df['DIST'])"
   ]
  },
  {
   "cell_type": "code",
   "execution_count": 12,
   "id": "0acc05ce",
   "metadata": {},
   "outputs": [
    {
     "data": {
      "text/plain": [
       "geopandas.geodataframe.GeoDataFrame"
      ]
     },
     "execution_count": 12,
     "metadata": {},
     "output_type": "execute_result"
    }
   ],
   "source": []
  },
  {
   "cell_type": "code",
   "execution_count": 14,
   "id": "87b0c362",
   "metadata": {},
   "outputs": [
    {
     "name": "stdout",
     "output_type": "stream",
     "text": [
      "              0\n",
      "0       GEOID20\n",
      "1          NAME\n",
      "2         STATE\n",
      "3          DIST\n",
      "4       C_TOT20\n",
      "5       CTOTMOE\n",
      "6       C_NHS20\n",
      "7       CNHSMOE\n",
      "8       C_AIA20\n",
      "9       CAIAMOE\n",
      "10      C_ASN20\n",
      "11      CASNMOE\n",
      "12      C_BLK20\n",
      "13      CBLKMOE\n",
      "14      C_NHP20\n",
      "15      CNHPMOE\n",
      "16      C_WHT20\n",
      "17      CWHTMOE\n",
      "18      C_AIW20\n",
      "19      CAIWMOE\n",
      "20      C_ASW20\n",
      "21      CASWMOE\n",
      "22      C_BLW20\n",
      "23      CBLWMOE\n",
      "24      C_AIB20\n",
      "25      CAIBMOE\n",
      "26      C_2OM20\n",
      "27      C2OMMOE\n",
      "28      C_HSP20\n",
      "29      CHSPMOE\n",
      "30   CVAP_TOT20\n",
      "31   CVAPTOTMOE\n",
      "32   CVAP_NHS20\n",
      "33   CVAPNHSMOE\n",
      "34   CVAP_AIA20\n",
      "35   CVAPAIAMOE\n",
      "36   CVAP_ASN20\n",
      "37   CVAPASNMOE\n",
      "38   CVAP_BLK20\n",
      "39   CVAPBLKMOE\n",
      "40   CVAP_NHP20\n",
      "41   CVAPNHPMOE\n",
      "42   CVAP_WHT20\n",
      "43   CVAPWHTMOE\n",
      "44   CVAP_AIW20\n",
      "45   CVAPAIWMOE\n",
      "46   CVAP_ASW20\n",
      "47   CVAPASWMOE\n",
      "48   CVAP_BLW20\n",
      "49   CVAPBLWMOE\n",
      "50   CVAP_AIB20\n",
      "51   CVAPAIBMOE\n",
      "52   CVAP_2OM20\n",
      "53   CVAP2OMMOE\n",
      "54   CVAP_HSP20\n",
      "55   CVAPHSPMOE\n",
      "56    ALL_TOT20\n",
      "57    ALLTOTMOE\n",
      "58    ALL_NHS20\n",
      "59    ALLNHSMOE\n",
      "60    ALL_AIA20\n",
      "61    ALLAIAMOE\n",
      "62    ALL_ASN20\n",
      "63    ALLASNMOE\n",
      "64    ALL_BLK20\n",
      "65    ALLBLKMOE\n",
      "66    ALL_NHP20\n",
      "67    ALLNHPMOE\n",
      "68    ALL_WHT20\n",
      "69    ALLWHTMOE\n",
      "70    ALL_AIW20\n",
      "71    ALLAIWMOE\n",
      "72    ALL_ASW20\n",
      "73    ALLASWMOE\n",
      "74    ALL_BLW20\n",
      "75    ALLBLWMOE\n",
      "76    ALL_AIB20\n",
      "77    ALLAIBMOE\n",
      "78    ALL_2OM20\n",
      "79    ALL2OMMOE\n",
      "80    ALL_HSP20\n",
      "81    ALLHSPMOE\n",
      "82    VAP_TOT20\n",
      "83    VAPTOTMOE\n",
      "84    VAP_NHS20\n",
      "85    VAPNHSMOE\n",
      "86    VAP_AIA20\n",
      "87    VAPAIAMOE\n",
      "88    VAP_ASN20\n",
      "89    VAPASNMOE\n",
      "90    VAP_BLK20\n",
      "91    VAPBLKMOE\n",
      "92    VAP_NHP20\n",
      "93    VAPNHPMOE\n",
      "94    VAP_WHT20\n",
      "95    VAPWHTMOE\n",
      "96    VAP_AIW20\n",
      "97    VAPAIWMOE\n",
      "98    VAP_ASW20\n",
      "99    VAPASWMOE\n",
      "100   VAP_BLW20\n",
      "101   VAPBLWMOE\n",
      "102   VAP_AIB20\n",
      "103   VAPAIBMOE\n",
      "104   VAP_2OM20\n",
      "105   VAP2OMMOE\n",
      "106   VAP_HSP20\n",
      "107   VAPHSPMOE\n",
      "108     STATEFP\n",
      "109          CD\n",
      "110    geometry\n"
     ]
    }
   ],
   "source": [
    "# display(cong_df.columns)\n",
    "df = pd.DataFrame(cong_df.columns)\n",
    "\n",
    "pd.set_option('display.max_rows', 500)\n",
    "pd.set_option('display.max_columns', 500)\n",
    "pd.set_option('display.width', 1000)\n",
    "print(df)"
   ]
  },
  {
   "cell_type": "code",
   "execution_count": 15,
   "id": "3189bea2",
   "metadata": {},
   "outputs": [
    {
     "name": "stdout",
     "output_type": "stream",
     "text": [
      "0    Congressional District 1 (116th Congress), Sou...\n",
      "1    Congressional District 3 (116th Congress), Sou...\n",
      "2    Congressional District 4 (116th Congress), Sou...\n",
      "3    Congressional District 5 (116th Congress), Sou...\n",
      "4    Congressional District 7 (116th Congress), Sou...\n",
      "5    Congressional District 2 (116th Congress), Sou...\n",
      "6    Congressional District 6 (116th Congress), Sou...\n",
      "Name: NAME, dtype: object\n",
      "0    Congressional District 1 (116th Congress)\n",
      "1    Congressional District 3 (116th Congress)\n",
      "2    Congressional District 4 (116th Congress)\n",
      "3    Congressional District 5 (116th Congress)\n",
      "4    Congressional District 7 (116th Congress)\n",
      "5    Congressional District 2 (116th Congress)\n",
      "6    Congressional District 6 (116th Congress)\n",
      "Name: DIST, dtype: object\n"
     ]
    }
   ],
   "source": [
    "print(cong_df['NAME'])\n",
    "print(cong_df['DIST'])"
   ]
  },
  {
   "cell_type": "code",
   "execution_count": 16,
   "id": "918d62d4",
   "metadata": {},
   "outputs": [
    {
     "name": "stderr",
     "output_type": "stream",
     "text": [
      "100%|█████████████████████████████████| 146844/146844 [01:04<00:00, 2273.37it/s]\n",
      "100%|█████████████████████████████████| 146844/146844 [01:04<00:00, 2279.28it/s]\n"
     ]
    }
   ],
   "source": [
    "blocks_to_precincts_assignment = maup.assign(population_df.geometry, election_df.geometry)\n",
    "vap_blocks_to_precincts_assignment = maup.assign(vap_df.geometry, election_df.geometry)"
   ]
  },
  {
   "cell_type": "code",
   "execution_count": 17,
   "id": "07133760",
   "metadata": {},
   "outputs": [],
   "source": [
    "pop_column_names = ['P0020001', 'P0020002', 'P0020005', 'P0020006', 'P0020007',\n",
    "                    'P0020008', 'P0020009', 'P0020010', 'P0020011']"
   ]
  },
  {
   "cell_type": "code",
   "execution_count": 18,
   "id": "6f76febb",
   "metadata": {},
   "outputs": [],
   "source": [
    "vap_column_names = ['P0040001', 'P0040002', 'P0040005', 'P0040006', 'P0040007',\n",
    "                    'P0040008', 'P0040009', 'P0040010', 'P0040011']"
   ]
  },
  {
   "cell_type": "code",
   "execution_count": 19,
   "id": "04e21bf2",
   "metadata": {},
   "outputs": [],
   "source": [
    "for name in pop_column_names:\n",
    "    election_df[name] = population_df[name].groupby(blocks_to_precincts_assignment).sum()\n",
    "for name in vap_column_names:\n",
    "    election_df[name] = vap_df[name].groupby(vap_blocks_to_precincts_assignment).sum()"
   ]
  },
  {
   "cell_type": "code",
   "execution_count": 20,
   "id": "76a7492a",
   "metadata": {},
   "outputs": [
    {
     "name": "stdout",
     "output_type": "stream",
     "text": [
      "5118425\n",
      "5118425\n",
      "4014460\n",
      "4014460\n"
     ]
    }
   ],
   "source": [
    "print(population_df['P0020001'].sum())\n",
    "print(election_df['P0020001'].sum())\n",
    "print(vap_df['P0040001'].sum())\n",
    "print(election_df['P0040001'].sum())"
   ]
  },
  {
   "cell_type": "code",
   "execution_count": 21,
   "id": "ea261c13",
   "metadata": {},
   "outputs": [
    {
     "name": "stderr",
     "output_type": "stream",
     "text": [
      "100%|█████████████████████████████████| 146844/146844 [01:10<00:00, 2083.08it/s]\n",
      "/Library/Frameworks/Python.framework/Versions/3.9/lib/python3.9/site-packages/maup/repair.py:331: UserWarning: Geometry is in a geographic CRS. Results from 'area' are likely incorrect. Use 'GeoSeries.to_crs()' to re-project geometries to a projected CRS before this operation.\n",
      "\n",
      "  overlaps = inters[inters.area > 0].make_valid()\n"
     ]
    },
    {
     "name": "stdout",
     "output_type": "stream",
     "text": [
      "True\n"
     ]
    }
   ],
   "source": [
    "print(maup.doctor(election_df))"
   ]
  },
  {
   "cell_type": "code",
   "execution_count": 22,
   "id": "625f9bba",
   "metadata": {},
   "outputs": [
    {
     "name": "stderr",
     "output_type": "stream",
     "text": [
      "100%|█████████████████████████████████████████████| 7/7 [00:08<00:00,  1.22s/it]\n"
     ]
    }
   ],
   "source": [
    "precincts_to_districts_assignment = maup.assign(election_df.geometry, cong_df.geometry)\n",
    "election_df[\"CD\"] = precincts_to_districts_assignment"
   ]
  },
  {
   "cell_type": "code",
   "execution_count": 23,
   "id": "fa59de78",
   "metadata": {},
   "outputs": [
    {
     "name": "stdout",
     "output_type": "stream",
     "text": [
      "{0, 1, 2, 3, 4, 5, 6}\n"
     ]
    },
    {
     "name": "stderr",
     "output_type": "stream",
     "text": [
      "/var/folders/22/kf5867y962j235jc4nj4l1300000gn/T/ipykernel_82771/2291687918.py:3: FutureWarning: Setting an item of incompatible dtype is deprecated and will raise an error in a future version of pandas. Value 'Congressional District 3 (116th Congress)' has dtype incompatible with int64, please explicitly cast to a compatible dtype first.\n",
      "  election_df.at[precinct_index, \"CD\"] = cong_df.at[election_df.at[precinct_index, \"CD\"], 'DIST']\n"
     ]
    },
    {
     "name": "stdout",
     "output_type": "stream",
     "text": [
      "{'Congressional District 7 (116th Congress)', 'Congressional District 4 (116th Congress)', 'Congressional District 2 (116th Congress)', 'Congressional District 1 (116th Congress)', 'Congressional District 5 (116th Congress)', 'Congressional District 6 (116th Congress)', 'Congressional District 3 (116th Congress)'}\n",
      "{'Congressional District 7 (116th Congress)', 'Congressional District 4 (116th Congress)', 'Congressional District 2 (116th Congress)', 'Congressional District 1 (116th Congress)', 'Congressional District 5 (116th Congress)', 'Congressional District 6 (116th Congress)', 'Congressional District 3 (116th Congress)'}\n"
     ]
    }
   ],
   "source": [
    "print(set(election_df[\"CD\"]))\n",
    "for precinct_index in range(len(election_df)):\n",
    "    election_df.at[precinct_index, \"CD\"] = cong_df.at[election_df.at[precinct_index, \"CD\"], 'DIST']\n",
    "print(set(cong_df['DIST']))\n",
    "print(set(election_df[\"CD\"]))"
   ]
  },
  {
   "cell_type": "code",
   "execution_count": 24,
   "id": "55387d79",
   "metadata": {},
   "outputs": [],
   "source": [
    "rename_dict = {'P0020001': 'TOTPOP', 'P0020002': 'HISP', 'P0020005': 'NH_WHITE', 'P0020006': 'NH_BLACK', 'P0020007': 'NH_AMIN',\n",
    "                    'P0020008': 'NH_ASIAN', 'P0020009': 'NH_NHPI', 'P0020010': 'NH_OTHER', 'P0020011': 'NH_2MORE',\n",
    "                    'P0040001': 'VAP', 'P0040002': 'HVAP', 'P0040005': 'WVAP', 'P0040006': 'BVAP', 'P0040007': 'AMINVAP',\n",
    "                                        'P0040008': 'ASIANVAP', 'P0040009': 'NHPIVAP', 'P0040010': 'OTHERVAP', 'P0040011': '2MOREVAP',\n",
    "                                        'G20PREDBID': 'G20PRED', 'G20PRERTRU': 'G20PRER', 'G20USSDDUR': 'G20USSD', \n",
    "                                        'G20USSRCUR': 'G20USSR'}"
   ]
  },
  {
   "cell_type": "code",
   "execution_count": 25,
   "id": "b92b2853",
   "metadata": {},
   "outputs": [
    {
     "data": {
      "text/plain": [
       "['GEOID20',\n",
       " 'STATEFP',\n",
       " 'COUNTYFP',\n",
       " 'PRECINCTID',\n",
       " 'VAP_MOD',\n",
       " 'G20PRERTRU',\n",
       " 'G20PREDBID',\n",
       " 'G20PRELJOR',\n",
       " 'G20PREGHAW',\n",
       " 'G20PREAFUE',\n",
       " 'G20USSRGRA',\n",
       " 'G20USSDHAR',\n",
       " 'G20USSCBLE',\n",
       " 'G20USSOWRI',\n",
       " 'geometry',\n",
       " 'P0020001',\n",
       " 'P0020002',\n",
       " 'P0020005',\n",
       " 'P0020006',\n",
       " 'P0020007',\n",
       " 'P0020008',\n",
       " 'P0020009',\n",
       " 'P0020010',\n",
       " 'P0020011',\n",
       " 'P0040001',\n",
       " 'P0040002',\n",
       " 'P0040005',\n",
       " 'P0040006',\n",
       " 'P0040007',\n",
       " 'P0040008',\n",
       " 'P0040009',\n",
       " 'P0040010',\n",
       " 'P0040011',\n",
       " 'CD']"
      ]
     },
     "execution_count": 25,
     "metadata": {},
     "output_type": "execute_result"
    }
   ],
   "source": [
    "list(election_df.columns)"
   ]
  },
  {
   "cell_type": "code",
   "execution_count": 26,
   "id": "cf6ebb67",
   "metadata": {},
   "outputs": [],
   "source": [
    "election_df.rename(columns=rename_dict, inplace = True)"
   ]
  },
  {
   "cell_type": "code",
   "execution_count": 27,
   "id": "deb3c6f9",
   "metadata": {},
   "outputs": [
    {
     "data": {
      "text/plain": [
       "['GEOID20',\n",
       " 'STATEFP',\n",
       " 'COUNTYFP',\n",
       " 'PRECINCTID',\n",
       " 'VAP_MOD',\n",
       " 'G20PRER',\n",
       " 'G20PRED',\n",
       " 'G20PRELJOR',\n",
       " 'G20PREGHAW',\n",
       " 'G20PREAFUE',\n",
       " 'G20USSRGRA',\n",
       " 'G20USSDHAR',\n",
       " 'G20USSCBLE',\n",
       " 'G20USSOWRI',\n",
       " 'geometry',\n",
       " 'TOTPOP',\n",
       " 'HISP',\n",
       " 'NH_WHITE',\n",
       " 'NH_BLACK',\n",
       " 'NH_AMIN',\n",
       " 'NH_ASIAN',\n",
       " 'NH_NHPI',\n",
       " 'NH_OTHER',\n",
       " 'NH_2MORE',\n",
       " 'VAP',\n",
       " 'HVAP',\n",
       " 'WVAP',\n",
       " 'BVAP',\n",
       " 'AMINVAP',\n",
       " 'ASIANVAP',\n",
       " 'NHPIVAP',\n",
       " 'OTHERVAP',\n",
       " '2MOREVAP',\n",
       " 'CD']"
      ]
     },
     "execution_count": 27,
     "metadata": {},
     "output_type": "execute_result"
    }
   ],
   "source": [
    "list(election_df.columns)"
   ]
  },
  {
   "cell_type": "code",
   "execution_count": 28,
   "id": "56fceef2",
   "metadata": {},
   "outputs": [
    {
     "data": {
      "text/plain": [
       "['GEOID20',\n",
       " 'STATEFP',\n",
       " 'COUNTYFP',\n",
       " 'PRECINCTID',\n",
       " 'VAP_MOD',\n",
       " 'G20PRER',\n",
       " 'G20PRED',\n",
       " 'geometry',\n",
       " 'TOTPOP',\n",
       " 'HISP',\n",
       " 'NH_WHITE',\n",
       " 'NH_BLACK',\n",
       " 'NH_AMIN',\n",
       " 'NH_ASIAN',\n",
       " 'NH_NHPI',\n",
       " 'NH_OTHER',\n",
       " 'NH_2MORE',\n",
       " 'VAP',\n",
       " 'HVAP',\n",
       " 'WVAP',\n",
       " 'BVAP',\n",
       " 'AMINVAP',\n",
       " 'ASIANVAP',\n",
       " 'NHPIVAP',\n",
       " 'OTHERVAP',\n",
       " '2MOREVAP',\n",
       " 'CD']"
      ]
     },
     "execution_count": 28,
     "metadata": {},
     "output_type": "execute_result"
    }
   ],
   "source": [
    "election_df.drop(columns=['G20PRELJOR',\n",
    " 'G20PREGHAW',\n",
    " 'G20PREAFUE',\n",
    " 'G20USSRGRA',\n",
    " 'G20USSDHAR',\n",
    " 'G20USSCBLE',\n",
    " 'G20USSOWRI'], inplace=True)\n",
    "list(election_df.columns)"
   ]
  },
  {
   "cell_type": "code",
   "execution_count": 29,
   "id": "64ccb6e6",
   "metadata": {},
   "outputs": [
    {
     "data": {
      "text/plain": [
       "<AxesSubplot: >"
      ]
     },
     "execution_count": 29,
     "metadata": {},
     "output_type": "execute_result"
    },
    {
     "data": {
      "image/png": "[encoded data removed]",
      "text/plain": [
       "<Figure size 432x288 with 1 Axes>"
      ]
     },
     "metadata": {
      "needs_background": "light"
     },
     "output_type": "display_data"
    }
   ],
   "source": [
    "election_df.plot()"
   ]
  },
  {
   "cell_type": "code",
   "execution_count": 36,
   "id": "6b10af6c",
   "metadata": {},
   "outputs": [],
   "source": [
    "dictionary = {'Congressional District 1 (116th Congress)' : 1,\n",
    "              'Congressional District 3 (116th Congress)' : 3,\n",
    "              'Congressional District 4 (116th Congress)' : 4,\n",
    "              'Congressional District 5 (116th Congress)' : 5,\n",
    "              'Congressional District 7 (116th Congress)' : 7,\n",
    "              'Congressional District 2 (116th Congress)' : 2,\n",
    "              'Congressional District 6 (116th Congress)' : 6}\n",
    "\n",
    "for key in dictionary:\n",
    "    old_value = key\n",
    "    election_df.loc[election_df['CD'] == old_value, 'CD'] = dictionary[key]"
   ]
  },
  {
   "cell_type": "code",
   "execution_count": 38,
   "id": "94c2150e",
   "metadata": {},
   "outputs": [
    {
     "name": "stdout",
     "output_type": "stream",
     "text": [
      "818893\n",
      "721829\n",
      "[818893, 721829, 706785, 760233, 736286, 646463, 727936]\n"
     ]
    }
   ],
   "source": [
    "print(election_df.loc[election_df[\"CD\"] == 1, \"TOTPOP\"].sum())\n",
    "print(election_df.loc[election_df[\"CD\"] == 2, \"TOTPOP\"].sum())\n",
    "pop_vals = [election_df.loc[election_df[\"CD\"] == n, \"TOTPOP\"].sum() for n in range(1, 8)]\n",
    "print(pop_vals)"
   ]
  },
  {
   "cell_type": "code",
   "execution_count": 40,
   "id": "31707e7a",
   "metadata": {},
   "outputs": [],
   "source": [
    "election_df.to_file(\"./SC/SC.shp\")\n",
    "\n",
    "shp_file = gpd.read_file(\"./SC/SC.shp\")\n",
    "\n",
    "shp_file.to_file(\"./SC/SC.geojson\", driver='GeoJSON')"
   ]
  },
  {
   "cell_type": "code",
   "execution_count": 41,
   "id": "48491fa2",
   "metadata": {},
   "outputs": [],
   "source": [
    "gdf = gpd.read_file(\"./SC/SC.shp\")"
   ]
  },
  {
   "cell_type": "code",
   "execution_count": null,
   "id": "d6037093",
   "metadata": {},
   "outputs": [],
   "source": []
  }
 ],
 "metadata": {
  "kernelspec": {
   "display_name": "Python 3 (ipykernel)",
   "language": "python",
   "name": "python3"
  },
  "language_info": {
   "codemirror_mode": {
    "name": "ipython",
    "version": 3
   },
   "file_extension": ".py",
   "mimetype": "text/x-python",
   "name": "python",
   "nbconvert_exporter": "python",
   "pygments_lexer": "ipython3",
   "version": "3.9.10"
  }
 },
 "nbformat": 4,
 "nbformat_minor": 5
}
