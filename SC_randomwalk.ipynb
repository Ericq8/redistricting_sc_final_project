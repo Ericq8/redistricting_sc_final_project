{
 "cells": [
  {
   "cell_type": "code",
   "execution_count": 1,
   "id": "f4c0b219",
   "metadata": {},
   "outputs": [],
   "source": [
    "import matplotlib.pyplot as plt\n",
    "from gerrychain import Graph, Partition, GeographicPartition, proposals, updaters, constraints, accept, MarkovChain, Election\n",
    "from gerrychain.constraints import single_flip_contiguous\n",
    "from gerrychain.updaters import cut_edges, Tally\n",
    "from gerrychain.proposals import recom, propose_random_flip\n",
    "from gerrychain.accept import always_accept\n",
    "from functools import partial\n",
    "import time\n",
    "import geopandas as gpd"
   ]
  },
  {
   "cell_type": "code",
   "execution_count": 2,
   "id": "e996a376",
   "metadata": {},
   "outputs": [],
   "source": [
    "gdf = gpd.read_file(\"./SC/SC.shp\")"
   ]
  },
  {
   "cell_type": "code",
   "execution_count": 3,
   "id": "8eda3a62",
   "metadata": {},
   "outputs": [
    {
     "name": "stderr",
     "output_type": "stream",
     "text": [
      "/Library/Frameworks/Python.framework/Versions/3.9/lib/python3.9/site-packages/gerrychain/graph/graph.py:179: UserWarning: Geometry is in a geographic CRS. Results from 'area' are likely incorrect. Use 'GeoSeries.to_crs()' to re-project geometries to a projected CRS before this operation.\n",
      "\n",
      "  areas = df.geometry.area.to_dict()\n"
     ]
    }
   ],
   "source": [
    "graph = Graph.from_geodataframe(gdf)"
   ]
  },
  {
   "cell_type": "code",
   "execution_count": 4,
   "id": "9b0e0b95",
   "metadata": {},
   "outputs": [
    {
     "name": "stdout",
     "output_type": "stream",
     "text": [
      "5118425\n"
     ]
    }
   ],
   "source": [
    "tot_pop = sum([graph.nodes()[v]['TOTPOP'] for v in graph.nodes()])\n",
    "print(tot_pop)"
   ]
  },
  {
   "cell_type": "code",
   "execution_count": 5,
   "id": "15a554c8",
   "metadata": {},
   "outputs": [],
   "source": [
    "initial_partition = GeographicPartition(graph=graph, \n",
    "                                        assignment=\"CD\",\n",
    "                                       updaters={\n",
    "                                            \"population\": Tally(\"TOTPOP\", alias=\"population\"),\n",
    "                                            \"cut_edges\": cut_edges,\n",
    "                                            \"democratic_votes\": Tally(\"G20PRED\", alias=\"democratic_votes\"),\n",
    "                                            \"republican_votes\": Tally(\"G20PRER\", alias=\"republican_votes\"),\n",
    "                                            \"latino_pop\": Tally(\"HISP\", alias=\"latino_pop\")\n",
    "    })"
   ]
  },
  {
   "cell_type": "code",
   "execution_count": 6,
   "id": "f9bcc585",
   "metadata": {},
   "outputs": [
    {
     "name": "stdout",
     "output_type": "stream",
     "text": [
      "7\n"
     ]
    }
   ],
   "source": [
    "num_dist = len(initial_partition)\n",
    "print(num_dist)\n",
    "ideal_pop = tot_pop / num_dist\n",
    "pop_tolerance = 0.07"
   ]
  },
  {
   "cell_type": "code",
   "execution_count": 7,
   "id": "5b9b7e20",
   "metadata": {},
   "outputs": [],
   "source": [
    "rw_proposal = partial(recom,\n",
    "                      pop_col = \"TOTPOP\",\n",
    "                      pop_target = ideal_pop,\n",
    "                      epsilon = pop_tolerance,\n",
    "                      node_repeats = 1\n",
    "                      )"
   ]
  },
  {
   "cell_type": "code",
   "execution_count": 11,
   "id": "57bb7927",
   "metadata": {},
   "outputs": [],
   "source": [
    "population_constraint = constraints.within_percent_of_ideal_population(\n",
    "    initial_partition,\n",
    "    pop_tolerance,\n",
    "    pop_key=\"population\")"
   ]
  },
  {
   "cell_type": "code",
   "execution_count": null,
   "id": "00a9bf81",
   "metadata": {},
   "outputs": [],
   "source": []
  },
  {
   "cell_type": "code",
   "execution_count": 14,
   "id": "3723bce8",
   "metadata": {},
   "outputs": [
    {
     "ename": "ValueError",
     "evalue": "The given initial_state is not valid according is_valid. The failed constraints were: Bounds(population,(716579.5, 745827.642857143))",
     "output_type": "error",
     "traceback": [
      "\u001b[0;31m---------------------------------------------------------------------------\u001b[0m",
      "\u001b[0;31mValueError\u001b[0m                                Traceback (most recent call last)",
      "Input \u001b[0;32mIn [14]\u001b[0m, in \u001b[0;36m<module>\u001b[0;34m\u001b[0m\n\u001b[0;32m----> 1\u001b[0m chain \u001b[38;5;241m=\u001b[39m \u001b[43mMarkovChain\u001b[49m\u001b[43m(\u001b[49m\n\u001b[1;32m      2\u001b[0m \u001b[43m    \u001b[49m\u001b[43mproposal\u001b[49m\u001b[43m \u001b[49m\u001b[38;5;241;43m=\u001b[39;49m\u001b[43m \u001b[49m\u001b[43mrw_proposal\u001b[49m\u001b[43m,\u001b[49m\n\u001b[1;32m      3\u001b[0m \u001b[43m    \u001b[49m\u001b[43mconstraints\u001b[49m\u001b[43m \u001b[49m\u001b[38;5;241;43m=\u001b[39;49m\u001b[43m \u001b[49m\u001b[43m[\u001b[49m\u001b[43mpopulation_constraint\u001b[49m\u001b[43m]\u001b[49m\u001b[43m,\u001b[49m\n\u001b[1;32m      4\u001b[0m \u001b[43m    \u001b[49m\u001b[43maccept\u001b[49m\u001b[43m \u001b[49m\u001b[38;5;241;43m=\u001b[39;49m\u001b[43m \u001b[49m\u001b[43malways_accept\u001b[49m\u001b[43m,\u001b[49m\n\u001b[1;32m      5\u001b[0m \u001b[43m    \u001b[49m\u001b[43minitial_state\u001b[49m\u001b[43m \u001b[49m\u001b[38;5;241;43m=\u001b[39;49m\u001b[43m \u001b[49m\u001b[43minitial_partition\u001b[49m\u001b[43m,\u001b[49m\n\u001b[1;32m      6\u001b[0m \u001b[43m    \u001b[49m\u001b[43mtotal_steps\u001b[49m\u001b[43m \u001b[49m\u001b[38;5;241;43m=\u001b[39;49m\u001b[43m \u001b[49m\u001b[38;5;241;43m10\u001b[39;49m\n\u001b[1;32m      7\u001b[0m \u001b[43m)\u001b[49m\n",
      "File \u001b[0;32m/Library/Frameworks/Python.framework/Versions/3.9/lib/python3.9/site-packages/gerrychain/chain.py:58\u001b[0m, in \u001b[0;36mMarkovChain.__init__\u001b[0;34m(self, proposal, constraints, accept, initial_state, total_steps)\u001b[0m\n\u001b[1;32m     49\u001b[0m     failed \u001b[38;5;241m=\u001b[39m [\n\u001b[1;32m     50\u001b[0m         constraint\n\u001b[1;32m     51\u001b[0m         \u001b[38;5;28;01mfor\u001b[39;00m constraint \u001b[38;5;129;01min\u001b[39;00m is_valid\u001b[38;5;241m.\u001b[39mconstraints  \u001b[38;5;66;03m# type: ignore\u001b[39;00m\n\u001b[1;32m     52\u001b[0m         \u001b[38;5;28;01mif\u001b[39;00m \u001b[38;5;129;01mnot\u001b[39;00m constraint(initial_state)\n\u001b[1;32m     53\u001b[0m     ]\n\u001b[1;32m     54\u001b[0m     message \u001b[38;5;241m=\u001b[39m (\n\u001b[1;32m     55\u001b[0m         \u001b[38;5;124m\"\u001b[39m\u001b[38;5;124mThe given initial_state is not valid according is_valid. \u001b[39m\u001b[38;5;124m\"\u001b[39m\n\u001b[1;32m     56\u001b[0m         \u001b[38;5;124m\"\u001b[39m\u001b[38;5;124mThe failed constraints were: \u001b[39m\u001b[38;5;124m\"\u001b[39m \u001b[38;5;241m+\u001b[39m \u001b[38;5;124m\"\u001b[39m\u001b[38;5;124m,\u001b[39m\u001b[38;5;124m\"\u001b[39m\u001b[38;5;241m.\u001b[39mjoin([f\u001b[38;5;241m.\u001b[39m\u001b[38;5;18m__name__\u001b[39m \u001b[38;5;28;01mfor\u001b[39;00m f \u001b[38;5;129;01min\u001b[39;00m failed])\n\u001b[1;32m     57\u001b[0m     )\n\u001b[0;32m---> 58\u001b[0m     \u001b[38;5;28;01mraise\u001b[39;00m \u001b[38;5;167;01mValueError\u001b[39;00m(message)\n\u001b[1;32m     60\u001b[0m \u001b[38;5;28mself\u001b[39m\u001b[38;5;241m.\u001b[39mproposal \u001b[38;5;241m=\u001b[39m proposal\n\u001b[1;32m     61\u001b[0m \u001b[38;5;28mself\u001b[39m\u001b[38;5;241m.\u001b[39mis_valid \u001b[38;5;241m=\u001b[39m is_valid\n",
      "\u001b[0;31mValueError\u001b[0m: The given initial_state is not valid according is_valid. The failed constraints were: Bounds(population,(716579.5, 745827.642857143))"
     ]
    }
   ],
   "source": [
    "chain = MarkovChain(\n",
    "    proposal = rw_proposal,\n",
    "    constraints = [population_constraint],\n",
    "    accept = always_accept,\n",
    "    initial_state = initial_partition,\n",
    "    total_steps = 10\n",
    ")"
   ]
  },
  {
   "cell_type": "code",
   "execution_count": null,
   "id": "559678bd",
   "metadata": {},
   "outputs": [],
   "source": [
    "cutedge_ensemble = []\n",
    "latino_majority_ensemble = []\n",
    "democratic_win_ensemble = []"
   ]
  },
  {
   "cell_type": "code",
   "execution_count": null,
   "id": "f29ed9a0",
   "metadata": {},
   "outputs": [],
   "source": [
    "for part in chain:\n",
    "    # Add cutedges to cutedges ensemble\n",
    "    cutedge_ensemble.append(len(part['cut_edges']))\n",
    "\n",
    "    # Calculate number of latino-majority districts\n",
    "    # Add to ensemble\n",
    "    num_maj_latino = 0\n",
    "    for i in range(1, 8):\n",
    "        latino_perc = part['latino_pop'][str(i)] / part['population'][str(i)]\n",
    "        if latino_perc >= 0.5:\n",
    "            num_maj_latino = num_maj_latino + 1\n",
    "    latino_majority_ensemble.append(num_maj_latino)\n",
    "\n",
    "    num_democratic_win = 0\n",
    "    for i in range(1, 8):\n",
    "        dem_perc = part['democratic_votes'][str(i)] / (\n",
    "                    part['democratic_votes'][str(i)] + part['republican_votes'][str(i)])\n",
    "        if dem_perc > 0.5:\n",
    "            num_democratic_win = num_democratic_win + 1\n",
    "    democratic_win_ensemble.append(num_democratic_win)"
   ]
  },
  {
   "cell_type": "code",
   "execution_count": null,
   "id": "7050b49b",
   "metadata": {},
   "outputs": [],
   "source": [
    "print(cutedge_ensemble)\n",
    "print(latino_majority_ensemble)\n",
    "print(democratic_win_ensemble)"
   ]
  },
  {
   "cell_type": "code",
   "execution_count": null,
   "id": "02909d05",
   "metadata": {},
   "outputs": [],
   "source": []
  }
 ],
 "metadata": {
  "kernelspec": {
   "display_name": "Python 3 (ipykernel)",
   "language": "python",
   "name": "python3"
  },
  "language_info": {
   "codemirror_mode": {
    "name": "ipython",
    "version": 3
   },
   "file_extension": ".py",
   "mimetype": "text/x-python",
   "name": "python",
   "nbconvert_exporter": "python",
   "pygments_lexer": "ipython3",
   "version": "3.9.10"
  }
 },
 "nbformat": 4,
 "nbformat_minor": 5
}
