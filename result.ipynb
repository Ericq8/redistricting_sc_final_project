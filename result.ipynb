{
 "cells": [
  {
   "cell_type": "code",
   "execution_count": 10,
   "id": "initial_id",
   "metadata": {
    "ExecuteTime": {
     "end_time": "2024-04-28T21:26:42.745714Z",
     "start_time": "2024-04-28T21:26:42.249682Z"
    }
   },
   "outputs": [],
   "source": [
    "import numpy as np\n",
    "import matplotlib.pyplot as plt\n",
    "import pickle\n",
    "import pandas as pd\n",
    "import seaborn as sns\n",
    "from gerrychain import Graph, GeographicPartition, Partition, Election, accept\n",
    "from gerrychain.updaters import Tally, cut_edges\n",
    "import glob\n",
    "import functools\n",
    "import operator"
   ]
  },
  {
   "cell_type": "code",
   "execution_count": 11,
   "id": "1fbf9401d9f390eb",
   "metadata": {
    "ExecuteTime": {
     "end_time": "2024-04-28T21:26:57.213999Z",
     "start_time": "2024-04-28T21:26:57.211226Z"
    }
   },
   "outputs": [],
   "source": [
    "def foldl(func, acc, xs):\n",
    "  return functools.reduce(func, xs, acc)\n",
    "\n",
    "foldr = lambda func, acc, xs: functools.reduce(lambda x, y: func(y, x), xs[::-1], acc)"
   ]
  },
  {
   "cell_type": "code",
   "execution_count": 24,
   "id": "d50daa12ee6c3725",
   "metadata": {
    "ExecuteTime": {
     "end_time": "2024-04-28T21:31:30.466845Z",
     "start_time": "2024-04-28T21:31:30.462807Z"
    }
   },
   "outputs": [],
   "source": [
    "def get_state_runs(seats, iters=100000, pop_bal=2.0, min_col=\"nWVAP\",\n",
    "                   ls=[2,5,10,20,40,80]):\n",
    "    results = {}\n",
    "\n",
    "    for l in ls:\n",
    "        short_burst = glob.glob(\"data/states/SC_dists{}_{}opt_{}%_100000_sbl{}_score0_*.npy\".format(seats, \n",
    "                                                                                                min_col, pop_bal, l))\n",
    "        results[str(l)] = np.zeros((len(short_burst), iters))\n",
    "        for i, run in enumerate(short_burst):\n",
    "            results[str(l)][i] = np.load(run).flatten()\n",
    "    return results"
   ]
  },
  {
   "cell_type": "code",
   "execution_count": 25,
   "id": "2894f831d2b232f8",
   "metadata": {
    "ExecuteTime": {
     "end_time": "2024-04-28T21:31:31.063646Z",
     "start_time": "2024-04-28T21:31:31.059565Z"
    }
   },
   "outputs": [],
   "source": [
    "def create_state_df(runs, iters=100000):\n",
    "    df_st = pd.DataFrame()\n",
    "    for l in runs.keys():\n",
    "        for i in range(runs[l].shape[0]):\n",
    "            df = pd.DataFrame()\n",
    "            df[\"Step\"] = np.arange(iters)\n",
    "            df[\"Maximum\"] = np.maximum.accumulate(runs[l][i].flatten())\n",
    "            df[\"run-type\"] = \"Short Burst\" if float(l) > 1 else \"Biased Run\" if float(l) < 1 else \"Unbiased Run\"\n",
    "            df[\"param\"] = \"b = {}\".format(l) if float(l) > 1 else \"q = {}\".format(l)\n",
    "            df_st = df_st.append(df, ignore_index=True)\n",
    "    return df_st"
   ]
  },
  {
   "cell_type": "code",
   "execution_count": 26,
   "id": "88c6f6a14dda4ed3",
   "metadata": {
    "ExecuteTime": {
     "end_time": "2024-04-28T21:41:19.422260Z",
     "start_time": "2024-04-28T21:41:19.354735Z"
    }
   },
   "outputs": [],
   "source": [
    "la_runs_bvap = get_state_runs(124, ls=[2,5,10,25,50,100,200], \n",
    "                              pop_bal=4.5, min_col=\"BVAP\")"
   ]
  },
  {
   "cell_type": "code",
   "execution_count": 27,
   "id": "3c6f1d427ea0ae15",
   "metadata": {},
   "outputs": [],
   "source": [
    "ubs = glob.glob(\"data/unbiased_SC/SC_dists124_4.5%_100000_unbiased_*.p\")\n",
    "ub_runs = {}\n",
    "for i, run in enumerate(ubs):\n",
    "     with open(run, \"rb\") as f:\n",
    "        ub_runs[i] = pickle.load(f)"
   ]
  },
  {
   "cell_type": "code",
   "execution_count": 28,
   "id": "615624d2",
   "metadata": {},
   "outputs": [
    {
     "ename": "IndexError",
     "evalue": "list index out of range",
     "output_type": "error",
     "traceback": [
      "\u001b[0;31m---------------------------------------------------------------------------\u001b[0m",
      "\u001b[0;31mIndexError\u001b[0m                                Traceback (most recent call last)",
      "Input \u001b[0;32mIn [28]\u001b[0m, in \u001b[0;36m<module>\u001b[0;34m\u001b[0m\n\u001b[1;32m      1\u001b[0m runs \u001b[38;5;241m=\u001b[39m \u001b[38;5;28mlist\u001b[39m(ub_runs\u001b[38;5;241m.\u001b[39mvalues())\n\u001b[0;32m----> 2\u001b[0m bvap \u001b[38;5;241m=\u001b[39m foldl(\u001b[38;5;28;01mlambda\u001b[39;00m x,y: np\u001b[38;5;241m.\u001b[39mconcatenate((x,y[\u001b[38;5;124m\"\u001b[39m\u001b[38;5;124mBVAP\u001b[39m\u001b[38;5;124m\"\u001b[39m]), axis\u001b[38;5;241m=\u001b[39m\u001b[38;5;241m0\u001b[39m), \u001b[43mruns\u001b[49m\u001b[43m[\u001b[49m\u001b[38;5;241;43m0\u001b[39;49m\u001b[43m]\u001b[49m[\u001b[38;5;124m\"\u001b[39m\u001b[38;5;124mBVAP\u001b[39m\u001b[38;5;124m\"\u001b[39m], runs[\u001b[38;5;241m1\u001b[39m:])\n",
      "\u001b[0;31mIndexError\u001b[0m: list index out of range"
     ]
    }
   ],
   "source": [
    "runs = list(ub_runs.values())\n",
    "bvap = foldl(lambda x,y: np.concatenate((x,y[\"BVAP\"]), axis=0), runs[0][\"BVAP\"], runs[1:])"
   ]
  },
  {
   "cell_type": "code",
   "execution_count": null,
   "id": "53be0205",
   "metadata": {},
   "outputs": [],
   "source": []
  }
 ],
 "metadata": {
  "kernelspec": {
   "display_name": "Python 3 (ipykernel)",
   "language": "python",
   "name": "python3"
  },
  "language_info": {
   "codemirror_mode": {
    "name": "ipython",
    "version": 3
   },
   "file_extension": ".py",
   "mimetype": "text/x-python",
   "name": "python",
   "nbconvert_exporter": "python",
   "pygments_lexer": "ipython3",
   "version": "3.9.10"
  }
 },
 "nbformat": 4,
 "nbformat_minor": 5
}
