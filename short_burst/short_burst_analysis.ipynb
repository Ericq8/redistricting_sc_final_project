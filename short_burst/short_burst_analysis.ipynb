{
 "cells": [
  {
   "cell_type": "code",
   "execution_count": 8,
   "id": "717850c1",
   "metadata": {},
   "outputs": [],
   "source": [
    "import numpy as np\n",
    "import matplotlib.pyplot as plt"
   ]
  },
  {
   "cell_type": "code",
   "execution_count": 9,
   "id": "48681311",
   "metadata": {},
   "outputs": [
    {
     "name": "stdout",
     "output_type": "stream",
     "text": [
      "{0.5: 0, 0.45: 1.0, 0.4: 1.0, 0.35: 2.0, 0.3: 3.0}\n"
     ]
    }
   ],
   "source": [
    "analysis_res = {}\n",
    "for threshold in [0.5, 0.45, 0.4, 0.35, 0.3]:\n",
    "    max = 0\n",
    "    for i in range(10) :\n",
    "        data = np.load('short_burst_run_result/threshold_{}/SC_dists7_BVAPopt_4.5%_500_sbl10_score0_{}.npy'.format(threshold, i))\n",
    "\n",
    "        for line in data :\n",
    "            for num in line:\n",
    "                if num > max :\n",
    "                    max = num\n",
    "    analysis_res[threshold] = max\n",
    "    \n",
    "data = analysis_res\n",
    "print(data)"
   ]
  },
  {
   "cell_type": "code",
   "execution_count": null,
   "id": "a89b6d6b",
   "metadata": {
    "ExecuteTime": {
     "end_time": "2024-05-11T23:28:44.199160Z",
     "start_time": "2024-05-11T23:28:44.197973Z"
    }
   },
   "outputs": [],
   "source": []
  },
  {
   "cell_type": "code",
   "execution_count": null,
   "id": "a41d9f98",
   "metadata": {},
   "outputs": [],
   "source": []
  },
  {
   "cell_type": "code",
   "execution_count": null,
   "id": "2cd88c53",
   "metadata": {},
   "outputs": [],
   "source": []
  }
 ],
 "metadata": {
  "kernelspec": {
   "display_name": "Python 3 (ipykernel)",
   "language": "python",
   "name": "python3"
  },
  "language_info": {
   "codemirror_mode": {
    "name": "ipython",
    "version": 3
   },
   "file_extension": ".py",
   "mimetype": "text/x-python",
   "name": "python",
   "nbconvert_exporter": "python",
   "pygments_lexer": "ipython3",
   "version": "3.9.10"
  }
 },
 "nbformat": 4,
 "nbformat_minor": 5
}
